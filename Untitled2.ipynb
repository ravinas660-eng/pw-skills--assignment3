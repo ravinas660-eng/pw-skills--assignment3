{
  "nbformat": 4,
  "nbformat_minor": 0,
  "metadata": {
    "colab": {
      "provenance": []
    },
    "kernelspec": {
      "name": "python3",
      "display_name": "Python 3"
    },
    "language_info": {
      "name": "python"
    }
  },
  "cells": [
    {
      "cell_type": "markdown",
      "source": [
        "1. What is a RESTful API4"
      ],
      "metadata": {
        "id": "xLdN6qFIUEwb"
      }
    },
    {
      "cell_type": "markdown",
      "source": [
        "A RESTful API (Representational State Transfer API) is a way for two systems (like a client and a server) to communicate over the internet using HTTP methods.\n",
        "\n",
        "It follows certain principles of REST architecture:\n",
        "\n",
        "Key Features:\n",
        "\n",
        "Stateless → Each request from the client to the server must contain all the information needed (the server doesn’t remember past requests).\n",
        "\n",
        "Client-Server → The client (like a web app or mobile app) asks for resources, and the server provides them.\n",
        "\n",
        "Uniform Interface → Resources are identified by URLs, and standard HTTP methods are used:\n",
        "\n",
        "GET → Retrieve data\n",
        "\n",
        "POST → Create new data\n",
        "\n",
        "PUT → Update existing data\n",
        "\n",
        "DELETE → Remove data\n",
        "\n",
        "Resource-Based → Everything is treated as a resource, identified by a URL (e.g., /users/1).\n",
        "\n",
        "Uses JSON or XML → Most RESTful APIs exchange data in JSON format."
      ],
      "metadata": {
        "id": "h_K6Q1VqULW-"
      }
    },
    {
      "cell_type": "markdown",
      "source": [
        "2.Explain the concept of API specificationM"
      ],
      "metadata": {
        "id": "8AJ3aU44UZRx"
      }
    },
    {
      "cell_type": "markdown",
      "source": [
        "An API specification is like a blueprint or contract that describes how a client can communicate with an API.\n",
        "It defines all the rules, inputs, outputs, and data formats so that developers know exactly how to use the API without looking at its internal code."
      ],
      "metadata": {
        "id": "R1mrQWjNUgMG"
      }
    },
    {
      "cell_type": "markdown",
      "source": [
        "3.What is Flask, and why is it popular for building APIs4"
      ],
      "metadata": {
        "id": "USa-UQSdUq-l"
      }
    },
    {
      "cell_type": "markdown",
      "source": [
        "Flask is a lightweight web framework for Python.\n",
        "\n",
        "It helps you build web applications and APIs quickly without needing a lot of setup.\n",
        "\n",
        "It is often called a “microframework” because it gives the basics (routing, request handling, responses) but lets you add extra tools only when you need them."
      ],
      "metadata": {
        "id": "hQbXfcabUxBj"
      }
    },
    {
      "cell_type": "markdown",
      "source": [
        "4.what is routing in Flask4"
      ],
      "metadata": {
        "id": "C0Iwfw7UU4Fz"
      }
    },
    {
      "cell_type": "markdown",
      "source": [
        "Routing in Flask means deciding which function should run when a user visits a specific URL (endpoint) in your web app or API.\n",
        "\n",
        "In other words, a route connects a URL path to a Python function.\n",
        "\n",
        "Each route is created using the @app.route() decorator.\n",
        "\n",
        "The function linked to a route is called a view function."
      ],
      "metadata": {
        "id": "b8VvcujRVAd7"
      }
    },
    {
      "cell_type": "markdown",
      "source": [
        "5.How do you create a simple Flask application4"
      ],
      "metadata": {
        "id": "AVA5OudLVJBh"
      }
    },
    {
      "cell_type": "markdown",
      "source": [
        ". Install Flask\n",
        "\n",
        "Run this in your terminal (only once):"
      ],
      "metadata": {
        "id": "svV86bp8Veo5"
      }
    },
    {
      "cell_type": "code",
      "source": [
        "pip install flask"
      ],
      "metadata": {
        "colab": {
          "base_uri": "https://localhost:8080/"
        },
        "id": "ePKpX1dNVgLI",
        "outputId": "b6d735a1-4f84-410a-a14b-41aac91517de"
      },
      "execution_count": 1,
      "outputs": [
        {
          "output_type": "stream",
          "name": "stdout",
          "text": [
            "Requirement already satisfied: flask in /usr/local/lib/python3.12/dist-packages (3.1.2)\n",
            "Requirement already satisfied: blinker>=1.9.0 in /usr/local/lib/python3.12/dist-packages (from flask) (1.9.0)\n",
            "Requirement already satisfied: click>=8.1.3 in /usr/local/lib/python3.12/dist-packages (from flask) (8.2.1)\n",
            "Requirement already satisfied: itsdangerous>=2.2.0 in /usr/local/lib/python3.12/dist-packages (from flask) (2.2.0)\n",
            "Requirement already satisfied: jinja2>=3.1.2 in /usr/local/lib/python3.12/dist-packages (from flask) (3.1.6)\n",
            "Requirement already satisfied: markupsafe>=2.1.1 in /usr/local/lib/python3.12/dist-packages (from flask) (3.0.2)\n",
            "Requirement already satisfied: werkzeug>=3.1.0 in /usr/local/lib/python3.12/dist-packages (from flask) (3.1.3)\n"
          ]
        }
      ]
    },
    {
      "cell_type": "markdown",
      "source": [
        "6. What are HTTP methods used in RESTful APIs4"
      ],
      "metadata": {
        "id": "1hZZpQ_WVw5v"
      }
    },
    {
      "cell_type": "markdown",
      "source": [
        "RESTful APIs mainly use standard HTTP methods to perform actions on resources. Each method has a specific meaning:\n",
        "\n",
        "1. GET\n",
        "\n",
        "Purpose → Retrieve data (read-only).\n",
        "\n",
        "Example:\n",
        "\n",
        "GET /users → Get all users\n",
        "\n",
        "GET /users/1 → Get user with ID = 1\n",
        "\n",
        "2. POST\n",
        "\n",
        "Purpose → Create a new resource.\n",
        "\n",
        "Example:\n",
        "\n",
        "POST /users → Create a new user (data is sent in the request body).\n",
        "\n",
        "3. PUT\n",
        "\n",
        "Purpose → Update an existing resource (replace it completely).\n",
        "\n",
        "Example:\n",
        "\n",
        "PUT /users/1 → Update user with ID = 1 (all fields replaced).\n",
        "\n",
        "4. PATCH\n",
        "\n",
        "Purpose → Partially update a resource.\n",
        "\n",
        "Example:\n",
        "\n",
        "PATCH /users/1 → Update only specific fields (e.g., just the name).\n",
        "\n",
        "5. DELETE\n",
        "\n",
        "Purpose → Remove a resource.\n",
        "\n",
        "Example:\n",
        "\n",
        "DELETE /users/1 → Delete user with ID = 1\n",
        "\n",
        "6. OPTIONS (less common but useful)\n",
        "\n",
        "Purpose → Tells which methods are allowed on a resource.\n",
        "\n",
        "Example:\n",
        "\n",
        "OPTIONS /users → Might return { \"methods\": [\"GET\", \"POST\"] }"
      ],
      "metadata": {
        "id": "opm3pZVuV1FV"
      }
    },
    {
      "cell_type": "markdown",
      "source": [
        "7.What is the purpose of the @app.route() decorator in Flask4"
      ],
      "metadata": {
        "id": "Va5qE90WV_2_"
      }
    },
    {
      "cell_type": "markdown",
      "source": [
        "The @app.route() decorator in Flask is used to map a URL (route) to a Python function.\n",
        "\n",
        "When a user visits that URL in the browser (or calls it via API), Flask runs the function associated with that route.\n",
        "\n",
        "The function is called a view function, and whatever it returns is sent back as the HTTP response."
      ],
      "metadata": {
        "id": "SRd8jEdFWRCQ"
      }
    },
    {
      "cell_type": "markdown",
      "source": [
        "8.What is the difference between GET and POST HTTP methods4"
      ],
      "metadata": {
        "id": "uL17AkzbWdQS"
      }
    },
    {
      "cell_type": "markdown",
      "source": [
        "Feature\tGET\tPOST\n",
        "Purpose\tRetrieve data (read-only)\tSend data to create/update resource\n",
        "Where data is sent\tData is sent in the URL (query string)\tData is sent in the request body\n",
        "Visibility\tData is visible in the URL (e.g., /search?name=Ravi)\tData is hidden from URL (sent in body)\n",
        "Data Length\tLimited (URL length restrictions)\tCan send large amounts of data\n",
        "Caching\tCan be cached, bookmarked, stored in browser history\tCannot be cached/bookmarked easily\n",
        "Idempotent?\tYes (same GET request gives same result, no data change)\tNo (each POST can create a new resource or change data)\n",
        "Use Case\tFetching data (searching, reading)\tSubmitting forms, login, uploading files"
      ],
      "metadata": {
        "id": "iNxgxe9kWujT"
      }
    },
    {
      "cell_type": "markdown",
      "source": [
        "9.How do you handle errors in Flask APIs4"
      ],
      "metadata": {
        "id": "jL1oXb2iWwff"
      }
    },
    {
      "cell_type": "markdown",
      "source": [
        "1. Using HTTP Status Codes in Responses\n",
        "\n",
        "Return meaningful status codes with error messages.\n",
        "\n",
        "from flask import Flask, jsonify\n",
        "\n",
        "app = Flask(__name__)\n",
        "\n",
        "@app.route('/divide/<int:a>/<int:b>')\n",
        "def divide(a, b):\n",
        "    if b == 0:\n",
        "        return jsonify({\"error\": \"Division by zero is not allowed\"}), 400\n",
        "    return jsonify({\"result\": a / b}), 200\n",
        "\n",
        "\n",
        "👉 If b = 0, it returns a 400 Bad Request with JSON error.\n",
        "\n",
        "2. Using abort() Function\n",
        "\n",
        "Flask’s abort() automatically sends error responses.\n",
        "\n",
        "from flask import abort\n",
        "\n",
        "@app.route('/secret')\n",
        "def secret():\n",
        "    abort(403)  # Forbidden\n",
        "\n",
        "\n",
        "👉 Returns a 403 Forbidden error.\n",
        "\n",
        "3. Custom Error Handlers\n",
        "\n",
        "You can customize responses for specific errors using @app.errorhandler().\n",
        "\n",
        "@app.errorhandler(404)\n",
        "def not_found(error):\n",
        "    return jsonify({\"error\": \"Resource not found\"}), 404\n",
        "\n",
        "@app.errorhandler(500)\n",
        "def internal_error(error):\n",
        "    return jsonify({\"error\": \"Something went wrong on our side\"}), 500\n",
        "\n",
        "4. Global Exception Handling\n",
        "\n",
        "Catch unexpected exceptions and return a JSON response.\n",
        "\n",
        "@app.errorhandler(Exception)\n",
        "def handle_exception(e):\n",
        "    return jsonify({\"error\": str(e)}), 500\n",
        "\n",
        "🔹 Best Practices\n",
        "\n",
        "Always return JSON error messages (not HTML) for APIs.\n",
        "\n",
        "Use proper HTTP status codes (400 for bad request, 404 for not found, 500 for server error).\n",
        "\n",
        "Log errors internally for debugging."
      ],
      "metadata": {
        "id": "ReZoy3adW4Gq"
      }
    },
    {
      "cell_type": "markdown",
      "source": [
        "10.How do you connect Flask to a SQL database4"
      ],
      "metadata": {
        "id": "G7N7l3QGXAbu"
      }
    },
    {
      "cell_type": "markdown",
      "source": [
        "Ways to Connect Flask to a SQL Database\n",
        "1. Using Flask-SQLAlchemy (Most Popular)\n",
        "\n",
        "SQLAlchemy is an ORM (Object Relational Mapper) that lets you work with databases using Python classes instead of raw SQL.\n",
        "\n",
        "Example: Connect Flask with SQLite\n",
        "from flask import Flask\n",
        "from flask_sqlalchemy import SQLAlchemy\n",
        "\n",
        "app = Flask(__name__)\n",
        "\n",
        "# Database Configuration\n",
        "app.config['SQLALCHEMY_DATABASE_URI'] = 'sqlite:///mydatabase.db'\n",
        "app.config['SQLALCHEMY_TRACK_MODIFICATIONS'] = False\n",
        "\n",
        "# Initialize Database\n",
        "db = SQLAlchemy(app)\n",
        "\n",
        "# Define a Model (Table)\n",
        "class User(db.Model):\n",
        "    id = db.Column(db.Integer, primary_key=True)\n",
        "    name = db.Column(db.String(100), nullable=False)\n",
        "\n",
        "# Create Tables\n",
        "with app.app_context():\n",
        "    db.create_all()\n",
        "\n",
        "@app.route('/add/<name>')\n",
        "def add_user(name):\n",
        "    new_user = User(name=name)\n",
        "    db.session.add(new_user)\n",
        "    db.session.commit()\n",
        "    return f\"User {name} added!\"\n",
        "\n",
        "@app.route('/users')\n",
        "def get_users():\n",
        "    users = User.query.all()\n",
        "    return { \"users\": [u.name for u in users] }\n",
        "\n",
        "if __name__ == '__main__':\n",
        "    app.run(debug=True)\n",
        "\n",
        "\n",
        "👉 This creates a SQLite database mydatabase.db and allows adding & fetching users.\n",
        "\n",
        "2. Using Raw SQL (without ORM)\n",
        "\n",
        "You can connect directly using libraries like sqlite3 or mysql-connector-python.\n",
        "\n",
        "import sqlite3\n",
        "from flask import Flask, jsonify\n",
        "\n",
        "app = Flask(__name__)\n",
        "\n",
        "@app.route('/users')\n",
        "def get_users():\n",
        "    conn = sqlite3.connect(\"mydatabase.db\")\n",
        "    cursor = conn.cursor()\n",
        "    cursor.execute(\"SELECT name FROM users\")\n",
        "    rows = cursor.fetchall()\n",
        "    conn.close()\n",
        "    return jsonify(rows)\n",
        "\n",
        "\n",
        "👉 This works but is harder to maintain for large projects.\n",
        "\n",
        "3. Using Flask-Migrate (for migrations)\n",
        "\n",
        "When using SQLAlchemy, you can add Flask-Migrate to handle schema changes easily."
      ],
      "metadata": {
        "id": "FYeZ1tlWXJVG"
      }
    },
    {
      "cell_type": "markdown",
      "source": [
        "11. What is the role of Flask-SQLAlchemy4"
      ],
      "metadata": {
        "id": "CfYrB-soXTp0"
      }
    },
    {
      "cell_type": "markdown",
      "source": [
        "Flask-SQLAlchemy is an extension for Flask that helps you work with SQL databases more easily by using SQLAlchemy ORM.\n",
        "\n",
        "Instead of writing raw SQL queries, you can interact with the database using Python classes and objects.\n",
        "\n",
        "🔑 Main Roles\n",
        "\n",
        "Database Connection\n",
        "\n",
        "Connects your Flask app to databases like SQLite, MySQL, PostgreSQL.\n",
        "\n",
        "ORM (Object Relational Mapping)\n",
        "\n",
        "Maps database tables → Python classes (Models).\n",
        "\n",
        "Table rows → Python objects.\n",
        "\n",
        "Schema Definition\n",
        "\n",
        "Define tables using Python classes with columns instead of CREATE TABLE SQL.\n",
        "\n",
        "Simplified Queries\n",
        "\n",
        "Write queries in Python (User.query.all()) instead of raw SQL (SELECT * FROM users).\n",
        "\n",
        "CRUD Operations\n",
        "\n",
        "Makes adding, updating, and deleting records easy with db.session.add(), db.session.commit().\n",
        "\n",
        "Migrations Support\n",
        "\n",
        "Works well with Flask-Migrate to handle schema changes safely."
      ],
      "metadata": {
        "id": "YY36-iX2XalP"
      }
    },
    {
      "cell_type": "markdown",
      "source": [
        "12.What are Flask blueprints, and how are they useful4"
      ],
      "metadata": {
        "id": "uH-fCrduXpWI"
      }
    },
    {
      "cell_type": "markdown",
      "source": [
        "A Blueprint in Flask is a way to organize and structure your application into reusable components.\n",
        "\n",
        "Think of a Blueprint as a mini-application inside your Flask app.\n",
        "\n",
        "Instead of writing all routes, models, and logic in a single app.py file, you split them into modules using Blueprints.\n",
        "\n",
        "Later, you register these Blueprints with the main Flask app."
      ],
      "metadata": {
        "id": "izHT0D_5XugU"
      }
    },
    {
      "cell_type": "markdown",
      "source": [
        "13.What is the purpose of Flask's request object4"
      ],
      "metadata": {
        "id": "v-J-luNmX6Yu"
      }
    },
    {
      "cell_type": "markdown",
      "source": [
        "14.What is the purpose of Flask's request object4"
      ],
      "metadata": {
        "id": "0dF9S4_QYJLt"
      }
    },
    {
      "cell_type": "markdown",
      "source": [
        "The request object in Flask is used to access all the data that a client sends in an HTTP request (like from a browser, mobile app, or API client).\n",
        "\n",
        "Whenever a client makes a request to your Flask app, Flask automatically creates a request object that holds details about that request."
      ],
      "metadata": {
        "id": "Py_4jbRRYRaL"
      }
    },
    {
      "cell_type": "markdown",
      "source": [
        "14.How do you create a RESTful API endpoint using Flask4"
      ],
      "metadata": {
        "id": "hFuhat52YU2S"
      }
    },
    {
      "cell_type": "markdown",
      "source": [
        "1. Install Flask\n",
        "pip install flask\n",
        "\n",
        "2. Write a simple Flask API (app.py)\n",
        "from flask import Flask, request, jsonify\n",
        "\n",
        "app = Flask(__name__)\n",
        "\n",
        "# Example in-memory data\n",
        "tasks = [\n",
        "    {\"id\": 1, \"title\": \"Learn Flask\", \"done\": False},\n",
        "    {\"id\": 2, \"title\": \"Build REST API\", \"done\": True}\n",
        "]\n",
        "\n",
        "# ✅ GET - Fetch all tasks\n",
        "@app.route('/tasks', methods=['GET'])\n",
        "def get_tasks():\n",
        "    return jsonify(tasks)\n",
        "\n",
        "# ✅ GET - Fetch single task by ID\n",
        "@app.route('/tasks/<int:task_id>', methods=['GET'])\n",
        "def get_task(task_id):\n",
        "    task = next((t for t in tasks if t[\"id\"] == task_id), None)\n",
        "    if task:\n",
        "        return jsonify(task)\n",
        "    return jsonify({\"error\": \"Task not found\"}), 404\n",
        "\n",
        "# ✅ POST - Create a new task\n",
        "@app.route('/tasks', methods=['POST'])\n",
        "def create_task():\n",
        "    data = request.json\n",
        "    new_task = {\"id\": len(tasks) + 1, \"title\": data[\"title\"], \"done\": False}\n",
        "    tasks.append(new_task)\n",
        "    return jsonify(new_task), 201\n",
        "\n",
        "# ✅ PUT - Update an existing task\n",
        "@app.route('/tasks/<int:task_id>', methods=['PUT'])\n",
        "def update_task(task_id):\n",
        "    data = request.json\n",
        "    task = next((t for t in tasks if t[\"id\"] == task_id), None)\n",
        "    if task:\n",
        "        task[\"title\"] = data.get(\"title\", task[\"title\"])\n",
        "        task[\"done\"] = data.get(\"done\", task[\"done\"])\n",
        "        return jsonify(task)\n",
        "    return jsonify({\"error\": \"Task not found\"}), 404\n",
        "\n",
        "# ✅ DELETE - Remove a task\n",
        "@app.route('/tasks/<int:task_id>', methods=['DELETE'])\n",
        "def delete_task(task_id):\n",
        "    global tasks\n",
        "    tasks = [t for t in tasks if t[\"id\"] != task_id]\n",
        "    return jsonify({\"message\": \"Task deleted\"}), 200\n",
        "\n",
        "if __name__ == '__main__':\n",
        "    app.run(debug=True)\n",
        "\n",
        "3. Run the API\n",
        "python app.py\n",
        "\n",
        "4. Test Endpoints\n",
        "\n",
        "GET /tasks → list all tasks\n",
        "\n",
        "GET /tasks/1 → fetch one task\n",
        "\n",
        "POST /tasks → create a new task\n",
        "\n",
        "{ \"title\": \"Study REST APIs\" }\n",
        "\n",
        "\n",
        "PUT /tasks/1 → update a task\n",
        "\n",
        "{ \"done\": true }\n",
        "\n",
        "\n",
        "DELETE /tasks/2 → delete a task"
      ],
      "metadata": {
        "id": "XQeA6FPyYdI4"
      }
    },
    {
      "cell_type": "markdown",
      "source": [
        "15.What is the purpose of Flask's jsonify() function4"
      ],
      "metadata": {
        "id": "EaOvZg1PY0Wp"
      }
    },
    {
      "cell_type": "markdown",
      "source": [
        "he jsonify() function in Flask is used to convert Python data (like dictionaries or lists) into JSON format and return it as an HTTP response.\n",
        "\n",
        "Since RESTful APIs mostly send and receive JSON, jsonify() makes sure your data is:\n",
        "\n",
        "Properly converted to JSON\n",
        "\n",
        "Sent with the correct Content-Type: application/json header\n"
      ],
      "metadata": {
        "id": "BOfxq5l6Y_mM"
      }
    },
    {
      "cell_type": "markdown",
      "source": [
        "16.Explain Flask’s url_for() function"
      ],
      "metadata": {
        "id": "mXad42WQWWHP"
      }
    },
    {
      "cell_type": "markdown",
      "source": [
        "The url_for() function in Flask is used to build dynamic URLs for routes (endpoints) in your application.\n",
        "Instead of hardcoding URLs, you pass the function name of the route, and Flask generates the correct URL.\n",
        "\n",
        "This is useful because if you ever change the route path, you don’t have to update it everywhere—url_for() updates it automatically."
      ],
      "metadata": {
        "id": "c80j0rcpZJPr"
      }
    },
    {
      "cell_type": "markdown",
      "source": [
        "17.How does Flask handle static files (CSS, JavaScript, etc.)"
      ],
      "metadata": {
        "id": "CEOW4QerZRl-"
      }
    },
    {
      "cell_type": "markdown",
      "source": [
        "Flask automatically serves static files (like CSS, JavaScript, images) from a special folder named static/ in your project.\n",
        "\n",
        "Any file inside static/ is accessible via:\n",
        "\n",
        "http://localhost:5000/static/<filename>\n",
        "\n",
        "🔹 Example Project Structure\n",
        "my_flask_app/\n",
        "│── app.py\n",
        "│── static/\n",
        "│     ├── style.css\n",
        "│     └── script.js\n",
        "│── templates/\n",
        "      └── index.html\n",
        "\n",
        "🔹 Example Code\n",
        "\n",
        "app.py\n",
        "\n",
        "from flask import Flask, render_template\n",
        "\n",
        "app = Flask(__name__)\n",
        "\n",
        "@app.route('/')\n",
        "def home():\n",
        "    return render_template(\"index.html\")\n",
        "\n",
        "if __name__ == \"__main__\":\n",
        "    app.run(debug=True)\n",
        "\n",
        "\n",
        "templates/index.html\n",
        "\n",
        "<!DOCTYPE html>\n",
        "<html>\n",
        "<head>\n",
        "    <title>Flask Static Example</title>\n",
        "    <!-- Link to CSS -->\n",
        "    <link rel=\"stylesheet\" href=\"{{ url_for('static', filename='style.css') }}\">\n",
        "</head>\n",
        "<body>\n",
        "    <h1>Hello Flask!</h1>\n",
        "    <!-- Link to JS -->\n",
        "    <script src=\"{{ url_for('static', filename='script.js') }}\"></script>\n",
        "</body>\n",
        "</html>\n",
        "\n",
        "\n",
        "static/style.css\n",
        "\n",
        "body {\n",
        "    background-color: lightblue;\n",
        "    font-family: Arial, sans-serif;\n",
        "}\n",
        "\n",
        "\n",
        "static/script.js\n",
        "\n",
        "console.log(\"JavaScript loaded successfully!\");\n",
        "\n",
        "🔹 Key Points\n",
        "\n",
        "Default folder → Flask looks in static/ by default.\n",
        "\n",
        "Use url_for → Always use url_for('static', filename='...') to reference files.\n",
        "\n",
        "Custom static folder → You can change it:\n",
        "\n",
        "app = Flask(__name__, static_folder=\"assets\")\n",
        "\n",
        "\n",
        "✅ In short:\n",
        "Flask serves static files from the static/ folder and you include them in HTML templates using url_for('static', filename='...'), ensuring proper paths and maintainability.\n",
        "\n",
        "Do you want me to also explain serving uploaded files dynamically along with static files in Flask?"
      ],
      "metadata": {
        "id": "T8zguqUtaPmS"
      }
    },
    {
      "cell_type": "markdown",
      "source": [
        "Flask automatically serves static files (like CSS, JavaScript, images) from a special folder named static/ in your project.\n",
        "\n",
        "Any file inside static/ is accessible via:\n",
        "\n",
        "http://localhost:5000/static/<filename>\n",
        "\n",
        "🔹 Example Project Structure\n",
        "my_flask_app/\n",
        "│── app.py\n",
        "│── static/\n",
        "│     ├── style.css\n",
        "│     └── script.js\n",
        "│── templates/\n",
        "      └── index.html\n",
        "\n",
        "🔹 Example Code\n",
        "\n",
        "app.py\n",
        "\n",
        "from flask import Flask, render_template\n",
        "\n",
        "app = Flask(__name__)\n",
        "\n",
        "@app.route('/')\n",
        "def home():\n",
        "    return render_template(\"index.html\")\n",
        "\n",
        "if __name__ == \"__main__\":\n",
        "    app.run(debug=True)\n",
        "\n",
        "\n",
        "templates/index.html\n",
        "\n",
        "<!DOCTYPE html>\n",
        "<html>\n",
        "<head>\n",
        "    <title>Flask Static Example</title>\n",
        "    <!-- Link to CSS -->\n",
        "    <link rel=\"stylesheet\" href=\"{{ url_for('static', filename='style.css') }}\">\n",
        "</head>\n",
        "<body>\n",
        "    <h1>Hello Flask!</h1>\n",
        "    <!-- Link to JS -->\n",
        "    <script src=\"{{ url_for('static', filename='script.js') }}\"></script>\n",
        "</body>\n",
        "</html>\n",
        "\n",
        "\n",
        "static/style.css\n",
        "\n",
        "body {\n",
        "    background-color: lightblue;\n",
        "    font-family: Arial, sans-serif;\n",
        "}\n",
        "\n",
        "\n",
        "static/script.js\n",
        "\n",
        "console.log(\"JavaScript loaded successfully!\");\n",
        "\n",
        "🔹 Key Points\n",
        "\n",
        "Default folder → Flask looks in static/ by default.\n",
        "\n",
        "Use url_for → Always use url_for('static', filename='...') to reference files.\n",
        "\n",
        "Custom static folder → You can change it:\n",
        "\n",
        "app = Flask(__name__, static_folder=\"assets\")\n",
        "\n",
        "\n",
        "✅ In short:\n",
        "Flask serves static files from the static/ folder and you include them in HTML templates using url_for('static', filename='...'), ensuring proper paths and maintainability.\n",
        "\n",
        "Do you want me to also explain serving uploaded files dynamically along with static files in Flask?"
      ],
      "metadata": {
        "id": "ROLrcHZIaSxP"
      }
    },
    {
      "cell_type": "markdown",
      "source": [
        "18.What is an API specification, and how does it help in building a Flask API4"
      ],
      "metadata": {
        "id": "IlyGB1i9aZ4I"
      }
    },
    {
      "cell_type": "markdown",
      "source": [
        "What is an API Specification?\n",
        "\n",
        "An API specification is a document or blueprint that describes:\n",
        "\n",
        "What endpoints your API will have (/users, /login, etc.)\n",
        "\n",
        "What HTTP methods each endpoint uses (GET, POST, PUT, DELETE)\n",
        "\n",
        "What data the endpoints accept (parameters, request body)\n",
        "\n",
        "What responses the endpoints return (status codes, JSON structure)\n",
        "\n",
        "Any authentication or headers required"
      ],
      "metadata": {
        "id": "BcmuK37uagIG"
      }
    },
    {
      "cell_type": "markdown",
      "source": [
        "19.What are HTTP status codes, and why are they important in a Flask API4"
      ],
      "metadata": {
        "id": "CW8w3qOAao9U"
      }
    },
    {
      "cell_type": "markdown",
      "source": [
        "HTTP status codes are three-digit numbers sent by a server in response to a client’s request.\n",
        "\n",
        "They indicate whether the request was successful, failed, or needs further action.\n",
        "\n",
        "🔹 Categories of Status Codes\n",
        "Range\tCategory\tMeaning\n",
        "1xx\tInformational\tRequest received, continuing process\n",
        "2xx\tSuccess\tRequest was successful\n",
        "3xx\tRedirection\tFurther action needed (redirect)\n",
        "4xx\tClient Error\tClient request has errors\n",
        "5xx\tServer Error\tServer failed to fulfill the request"
      ],
      "metadata": {
        "id": "97qVoZGrayc1"
      }
    },
    {
      "cell_type": "markdown",
      "source": [
        "20. How do you handle POST requests in Flask4"
      ],
      "metadata": {
        "id": "Z3qMQJsebBbu"
      }
    },
    {
      "cell_type": "markdown",
      "source": [
        "A POST request is used to send data from the client to the server, usually to create a resource.\n",
        "\n",
        "In Flask, you handle POST requests using:\n",
        "\n",
        "methods=['POST'] in the route decorator\n",
        "\n",
        "request object to access incoming data"
      ],
      "metadata": {
        "id": "JOeRR8utbJSL"
      }
    },
    {
      "cell_type": "markdown",
      "source": [
        "21.How would you secure a Flask API"
      ],
      "metadata": {
        "id": "vTuwia2JbTWb"
      }
    },
    {
      "cell_type": "markdown",
      "source": [
        ". Use HTTPS\n",
        "\n",
        "Always serve your API over HTTPS to encrypt data in transit.\n",
        "\n",
        "Prevents attackers from eavesdropping or tampering with requests.\n",
        "\n",
        "2. Authentication\n",
        "\n",
        "Verify the identity of the user or client.\n",
        "\n",
        "Common methods:\n",
        "\n",
        "API Keys – Simple tokens sent in headers.\n",
        "\n",
        "JWT (JSON Web Tokens) – Secure, stateless token-based authentication.\n",
        "\n",
        "OAuth2 – Standard for third-party authentication."
      ],
      "metadata": {
        "id": "KZ6p4CIZbcIe"
      }
    },
    {
      "cell_type": "markdown",
      "source": [
        "22.What is the significance of the Flask-RESTful extension4"
      ],
      "metadata": {
        "id": "z-TPJ8GzcDPX"
      }
    },
    {
      "cell_type": "markdown",
      "source": [
        "Flask-RESTful is an extension for Flask that makes it easier to build RESTful APIs.\n",
        "\n",
        "While plain Flask is flexible, building REST APIs with many endpoints can get repetitive. Flask-RESTful provides tools and abstractions to simplify the process.\n",
        "\n",
        "🔹 Significance of Flask-RESTful\n",
        "\n",
        "Resource-Based Approach\n",
        "\n",
        "Allows you to define API endpoints as resources (classes) instead of individual functions.\n",
        "\n",
        "Each resource can handle multiple HTTP methods (GET, POST, PUT, DELETE).\n",
        "\n",
        "Simplified Routing\n",
        "\n",
        "Automatically maps resources to URLs using api.add_resource().\n",
        "\n",
        "Avoids writing multiple route decorators for each method.\n",
        "\n",
        "Request Parsing & Validation\n",
        "\n",
        "Includes reqparse to extract and validate parameters easily.\n",
        "\n",
        "Built-in Error Handling\n",
        "\n",
        "Makes it easier to return consistent JSON error responses.\n",
        "\n",
        "Cleaner & Scalable Code\n",
        "\n",
        "Organizes code for large APIs by grouping logic into resource classes."
      ],
      "metadata": {
        "id": "XoAtX_NZcI2U"
      }
    },
    {
      "cell_type": "markdown",
      "source": [
        "23.What is the role of Flask’s session object?"
      ],
      "metadata": {
        "id": "Uw4cwm-5cRIG"
      }
    },
    {
      "cell_type": "markdown",
      "source": [
        "The session object in Flask is used to store data specific to a user’s session across multiple requests.\n",
        "\n",
        "A session is a way to remember information between requests from the same user.\n",
        "\n",
        "Flask sessions are stored on the client-side (in a cookie) but are signed to prevent tampering.\n",
        "\n",
        "🔹 Key Features of session\n",
        "\n",
        "Stores user-specific data\n",
        "\n",
        "Example: user ID, login status, shopping cart items.\n",
        "\n",
        "Data persists across requests\n",
        "\n",
        "Unlike local variables, session data is preserved until the browser closes or the session expires.\n",
        "\n",
        "Secure\n",
        "\n",
        "Data is stored in a signed cookie using SECRET_KEY.\n",
        "\n",
        "Prevents users from modifying session data."
      ],
      "metadata": {
        "id": "G_5aghjncWF8"
      }
    }
  ]
}